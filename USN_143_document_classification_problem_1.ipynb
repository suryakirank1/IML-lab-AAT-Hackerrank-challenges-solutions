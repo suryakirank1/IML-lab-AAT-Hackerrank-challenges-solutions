{
  "nbformat": 4,
  "nbformat_minor": 0,
  "metadata": {
    "colab": {
      "provenance": []
    },
    "kernelspec": {
      "name": "python3",
      "display_name": "Python 3"
    },
    "language_info": {
      "name": "python"
    }
  },
  "cells": [
    {
      "cell_type": "code",
      "source": [
        "import sys\n",
        "from sklearn.feature_extraction.text import TfidfVectorizer\n",
        "from sklearn.naive_bayes import MultinomialNB\n",
        "from sklearn.pipeline import make_pipeline\n",
        "\n",
        "def load_training_data(filename):\n",
        "    categories = []\n",
        "    documents = []\n",
        "\n",
        "    with open(filename, 'r') as file:\n",
        "        lines = file.readlines()\n",
        "        num_lines = int(lines[0].strip())\n",
        "        for line in lines[1:num_lines+1]:\n",
        "            parts = line.strip().split(' ', 1)\n",
        "            if len(parts) == 2:\n",
        "                category = int(parts[0])\n",
        "                document = parts[1]\n",
        "                categories.append(category)\n",
        "                documents.append(document)\n",
        "\n",
        "    return documents, categories\n",
        "\n",
        "def main():\n",
        "    training_data_file = 'trainingdata.txt'\n",
        "    train_docs, train_labels = load_training_data(training_data_file)\n",
        "\n",
        "    model = make_pipeline(TfidfVectorizer(), MultinomialNB())\n",
        "    model.fit(train_docs, train_labels)\n",
        "\n",
        "    input_data = sys.stdin.read().strip().split('\\n')[1:]\n",
        "\n",
        "    predictions = model.predict(input_data)\n",
        "\n",
        "    for prediction in predictions:\n",
        "        print(prediction)\n",
        "\n",
        "if __name__ == \"__main__\":\n",
        "    main()\n"
      ],
      "metadata": {
        "id": "aLB6k3HdSnMa"
      },
      "execution_count": null,
      "outputs": []
    }
  ]
}