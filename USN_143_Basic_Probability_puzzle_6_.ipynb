{
  "nbformat": 4,
  "nbformat_minor": 0,
  "metadata": {
    "colab": {
      "provenance": []
    },
    "kernelspec": {
      "name": "python3",
      "display_name": "Python 3"
    },
    "language_info": {
      "name": "python"
    }
  },
  "cells": [
    {
      "cell_type": "code",
      "source": [
        "from fractions import Fraction\n",
        "import sys\n",
        "\n",
        "def calculate_probability(W1, B1, W2, B2):\n",
        "    P_Y_black_given_X_white = Fraction(B2, (W2 + 1) + B2)\n",
        "    P_Y_black_given_X_black = Fraction(B2 + 1, W2 + (B2 + 1))\n",
        "    P_X_white = Fraction(W1, W1 + B1)\n",
        "    P_X_black = Fraction(B1, W1 + B1)\n",
        "    total_probability = (P_X_white * P_Y_black_given_X_white) + (P_X_black * P_Y_black_given_X_black)\n",
        "    return total_probability\n",
        "\n",
        "def main():\n",
        "    input = sys.stdin.read().strip()\n",
        "    W1, B1, W2, B2 = map(int, input.split())\n",
        "    result = calculate_probability(W1, B1, W2, B2)\n",
        "    print(result)\n",
        "\n",
        "if __name__ == \"__main__\":\n",
        "    main()\n"
      ],
      "metadata": {
        "id": "aLB6k3HdSnMa"
      },
      "execution_count": null,
      "outputs": []
    }
  ]
}